{
 "cells": [
  {
   "cell_type": "markdown",
   "metadata": {},
   "source": [
    "Getting dataset"
   ]
  },
  {
   "cell_type": "code",
   "execution_count": 1,
   "metadata": {},
   "outputs": [
    {
     "name": "stderr",
     "output_type": "stream",
     "text": [
      "Downloading...\n",
      "From: https://drive.google.com/uc?id=1m99RBSAG4zIPOJ2nfRupHj-jZDteTr6G\n",
      "To: c:\\Users\\admin\\Documents\\School\\Student-Grade-Predictor\\2)ML_Algo\\assessments.csv\n",
      "100%|██████████| 8.20k/8.20k [00:00<00:00, 22.0MB/s]\n"
     ]
    },
    {
     "name": "stdout",
     "output_type": "stream",
     "text": [
      "Downloaded: assessments.csv\n"
     ]
    },
    {
     "name": "stderr",
     "output_type": "stream",
     "text": [
      "Downloading...\n",
      "From: https://drive.google.com/uc?id=1p-bKN89n-r-HnDGRmVF2tDpvHA5DUv0w\n",
      "To: c:\\Users\\admin\\Documents\\School\\Student-Grade-Predictor\\2)ML_Algo\\courses.csv\n",
      "100%|██████████| 526/526 [00:00<00:00, 2.54MB/s]\n"
     ]
    },
    {
     "name": "stdout",
     "output_type": "stream",
     "text": [
      "Downloaded: courses.csv\n"
     ]
    },
    {
     "name": "stderr",
     "output_type": "stream",
     "text": [
      "Downloading...\n",
      "From: https://drive.google.com/uc?id=1XDBeNesyWO9YKVxh5fGtzQM4V-YXL_ZJ\n",
      "To: c:\\Users\\admin\\Documents\\School\\Student-Grade-Predictor\\2)ML_Algo\\studentAssessment.csv\n",
      "100%|██████████| 5.69M/5.69M [00:00<00:00, 84.3MB/s]\n"
     ]
    },
    {
     "name": "stdout",
     "output_type": "stream",
     "text": [
      "Downloaded: studentAssessment.csv\n"
     ]
    },
    {
     "name": "stderr",
     "output_type": "stream",
     "text": [
      "Downloading...\n",
      "From: https://drive.google.com/uc?id=1hakH4A1exZu58b8AEakkJFNktCGjMoAH\n",
      "To: c:\\Users\\admin\\Documents\\School\\Student-Grade-Predictor\\2)ML_Algo\\studentInfo.csv\n",
      "100%|██████████| 3.46M/3.46M [00:00<00:00, 78.9MB/s]\n"
     ]
    },
    {
     "name": "stdout",
     "output_type": "stream",
     "text": [
      "Downloaded: studentInfo.csv\n"
     ]
    },
    {
     "name": "stderr",
     "output_type": "stream",
     "text": [
      "Downloading...\n",
      "From: https://drive.google.com/uc?id=1Tf03LIjkD3GsLHO_meTUocIhdZ-uZHbM\n",
      "To: c:\\Users\\admin\\Documents\\School\\Student-Grade-Predictor\\2)ML_Algo\\studentRegistration.csv\n",
      "100%|██████████| 1.11M/1.11M [00:00<00:00, 39.2MB/s]\n"
     ]
    },
    {
     "name": "stdout",
     "output_type": "stream",
     "text": [
      "Downloaded: studentRegistration.csv\n"
     ]
    },
    {
     "name": "stderr",
     "output_type": "stream",
     "text": [
      "Downloading...\n",
      "From (original): https://drive.google.com/uc?id=1eInNXFn5ibTRT6R5P5ntn5jw8G-sWoPA\n",
      "From (redirected): https://drive.google.com/uc?id=1eInNXFn5ibTRT6R5P5ntn5jw8G-sWoPA&confirm=t&uuid=a35b8a73-39bd-4324-928b-7da039bc733b\n",
      "To: c:\\Users\\admin\\Documents\\School\\Student-Grade-Predictor\\2)ML_Algo\\studentVle.csv\n",
      "100%|██████████| 454M/454M [00:04<00:00, 96.7MB/s] \n"
     ]
    },
    {
     "name": "stdout",
     "output_type": "stream",
     "text": [
      "Downloaded: studentVle.csv\n"
     ]
    },
    {
     "name": "stderr",
     "output_type": "stream",
     "text": [
      "Downloading...\n",
      "From: https://drive.google.com/uc?id=1YZymTI35b22W8Z_X371xAIYUWz7SztLW\n",
      "To: c:\\Users\\admin\\Documents\\School\\Student-Grade-Predictor\\2)ML_Algo\\vle.csv\n",
      "100%|██████████| 260k/260k [00:00<00:00, 18.8MB/s]"
     ]
    },
    {
     "name": "stdout",
     "output_type": "stream",
     "text": [
      "Downloaded: vle.csv\n"
     ]
    },
    {
     "name": "stderr",
     "output_type": "stream",
     "text": [
      "\n"
     ]
    }
   ],
   "source": [
    "# Importing the neccessary libraries\n",
    "import os\n",
    "import zipfile\n",
    "import pandas as pd\n",
    "import numpy as np\n",
    "import seaborn as sns\n",
    "import matplotlib.pyplot as plt\n",
    "from scipy import stats\n",
    "import plotly.express as px\n",
    "from sklearn.preprocessing import LabelEncoder\n",
    "\n",
    "\n",
    "import gdown\n",
    "\n",
    "# Downloading the Kaggle Dataset.\n",
    "file_ids = [\"1m99RBSAG4zIPOJ2nfRupHj-jZDteTr6G\", \"1p-bKN89n-r-HnDGRmVF2tDpvHA5DUv0w\", \"1XDBeNesyWO9YKVxh5fGtzQM4V-YXL_ZJ\",\"1hakH4A1exZu58b8AEakkJFNktCGjMoAH\",\"1Tf03LIjkD3GsLHO_meTUocIhdZ-uZHbM\",\"1eInNXFn5ibTRT6R5P5ntn5jw8G-sWoPA\",\"1YZymTI35b22W8Z_X371xAIYUWz7SztLW\"]  # Add all file IDs here\n",
    "destinations=[\"assessments.csv\",\"courses.csv\",\"studentAssessment.csv\",\"studentInfo.csv\",\"studentRegistration.csv\",\"studentVle.csv\",\"vle.csv\"]\n",
    "for i, file_id in enumerate(file_ids, 0):\n",
    "    destination = f\"file_{i}.csv\"\n",
    "    url = f\"https://drive.google.com/uc?id={file_id}\"\n",
    "    gdown.download(url, destinations[i], quiet=False)\n",
    "    print(f\"Downloaded: {destinations[i]}\")"
   ]
  },
  {
   "cell_type": "markdown",
   "metadata": {},
   "source": [
    "Initialising df"
   ]
  },
  {
   "cell_type": "code",
   "execution_count": 7,
   "metadata": {},
   "outputs": [
    {
     "name": "stdout",
     "output_type": "stream",
     "text": [
      "       id_student      score Gender                Region  \\\n",
      "22297       33915  91.500000      F     South East Region   \n",
      "22298       35544  87.583333      M                 Wales   \n",
      "22299       35860  83.000000      M     South West Region   \n",
      "22302       37298  84.181818      M               Ireland   \n",
      "22303       42668  78.666667      M         London Region   \n",
      "22305       43273  76.000000      M  East Midlands Region   \n",
      "22306       43430  86.583333      M     South West Region   \n",
      "22308       50263  76.642857      M  West Midlands Region   \n",
      "22309       53197   0.000000      F  North Western Region   \n",
      "22311       55450  74.250000      M     South East Region   \n",
      "\n",
      "                         HLE Age group  Credit Distribution  \\\n",
      "22297  A Level or Equivalent      0-35                   60   \n",
      "22298  A Level or Equivalent     35-55                   60   \n",
      "22299  A Level or Equivalent      0-35                   60   \n",
      "22302       HE Qualification      0-35                  120   \n",
      "22303     Lower Than A Level     35-55                  120   \n",
      "22305       HE Qualification     35-55                   90   \n",
      "22306  A Level or Equivalent     35-55                   60   \n",
      "22308       HE Qualification     35-55                   60   \n",
      "22309        No Formal quals      0-35                   60   \n",
      "22311  A Level or Equivalent     35-55                  120   \n",
      "\n",
      "       assessment_completion_ratio  total_vle_clicks  target  \n",
      "22297                     0.923077            4121.0       1  \n",
      "22298                     0.923077            2107.0       1  \n",
      "22299                     0.769231            2215.0       1  \n",
      "22302                     0.846154            2097.0       1  \n",
      "22303                     0.923077            2839.0       1  \n",
      "22305                     0.923077            1862.0       1  \n",
      "22306                     0.923077            5693.0       1  \n",
      "22308                     1.076923            6288.0       1  \n",
      "22309                     0.076923              60.0       0  \n",
      "22311                     0.307692            1195.0       0  \n",
      "Number of rows in df_final: 5359\n"
     ]
    }
   ],
   "source": [
    "import pandas as pd\n",
    "\n",
    "# 1. Load your CSV files into DataFrames\n",
    "df_assessments = pd.read_csv(\"assessments.csv\")\n",
    "df_courses = pd.read_csv(\"courses.csv\")\n",
    "df_studentAssessment = pd.read_csv(\"studentAssessment.csv\")\n",
    "df_studentInfo = pd.read_csv(\"studentInfo.csv\")\n",
    "df_studentRegistration = pd.read_csv(\"studentRegistration.csv\")\n",
    "df_studentVle = pd.read_csv(\"studentVle.csv\")\n",
    "df_vle = pd.read_csv(\"vle.csv\")\n",
    "\n",
    "# Count how many unique assessments exist for each module + presentation\n",
    "df_course_assess_count = (\n",
    "    df_assessments\n",
    "    .groupby([\"code_module\", \"code_presentation\"])[\"id_assessment\"]\n",
    "    .count()\n",
    "    .reset_index()\n",
    "    .rename(columns={\"id_assessment\": \"total_assessments\"})\n",
    ")\n",
    "\n",
    "# Count how many assessments each student attempted\n",
    "df_attempted_count = (\n",
    "    df_studentAssessment\n",
    "    .groupby(\"id_student\")[\"id_assessment\"]\n",
    "    .count()\n",
    "    .reset_index()\n",
    "    .rename(columns={\"id_assessment\": \"num_assessments_attempted\"})\n",
    ")\n",
    "\n",
    "# Compute average score for each student\n",
    "df_avg_score = (\n",
    "    df_studentAssessment\n",
    "    .groupby(\"id_student\")[\"score\"]\n",
    "    .mean()  # or .sum() if you prefer total score\n",
    "    .reset_index()\n",
    "    .rename(columns={\"score\": \"score\"})\n",
    ")\n",
    "\n",
    "df_vle_clicks = (\n",
    "    df_studentVle\n",
    "    .groupby(\"id_student\")[\"sum_click\"]\n",
    "    .sum()\n",
    "    .reset_index()\n",
    "    .rename(columns={\"sum_click\": \"total_vle_clicks\"})\n",
    ")\n",
    "\n",
    "\n",
    "# 3.1 Merge total_assessments (on code_module + code_presentation)\n",
    "df_merged = pd.merge(\n",
    "    df_studentInfo,\n",
    "    df_course_assess_count,\n",
    "    on=[\"code_module\", \"code_presentation\"],\n",
    "    how=\"left\"\n",
    ")\n",
    "\n",
    "# 3.2 Merge attempted_assessments & average_score (on id_student)\n",
    "df_merged = pd.merge(\n",
    "    df_merged,\n",
    "    df_attempted_count,\n",
    "    on=\"id_student\",\n",
    "    how=\"left\"\n",
    ")\n",
    "\n",
    "df_merged = pd.merge(\n",
    "    df_merged,\n",
    "    df_avg_score,\n",
    "    on=\"id_student\",\n",
    "    how=\"left\"\n",
    ")\n",
    "\n",
    "# 3.3 Merge total_vle_clicks (on id_student)\n",
    "df_merged = pd.merge(\n",
    "    df_merged,\n",
    "    df_vle_clicks,\n",
    "    on=\"id_student\",\n",
    "    how=\"left\"\n",
    ")\n",
    "\n",
    "# Replace NaN with 0 if needed\n",
    "df_merged[\"num_assessments_attempted\"] = df_merged[\"num_assessments_attempted\"].fillna(0)\n",
    "df_merged[\"total_assessments\"] = df_merged[\"total_assessments\"].fillna(0)\n",
    "df_merged[\"score\"] = df_merged[\"score\"].fillna(0)  # if missing, assume 0 or handle differently\n",
    "df_merged[\"total_vle_clicks\"] = df_merged[\"total_vle_clicks\"].fillna(0)\n",
    "\n",
    "# Compute ratio safely\n",
    "def completion_ratio(row):\n",
    "    if row[\"total_assessments\"] == 0:\n",
    "        return 0\n",
    "    return row[\"num_assessments_attempted\"] / row[\"total_assessments\"]\n",
    "\n",
    "df_merged[\"assessment_completion_ratio\"] = df_merged.apply(completion_ratio, axis=1)\n",
    "\n",
    "# Filter out withdrawn\n",
    "df_merged = df_merged[\n",
    "    (df_merged[\"final_result\"] != \"Withdrawn\") & \n",
    "    (df_merged[\"code_module\"] == \"FFF\")\n",
    "].copy()\n",
    "\n",
    "# Create binary target\n",
    "df_merged[\"target\"] = df_merged[\"final_result\"].apply(\n",
    "    lambda x: 1 if x in [\"Pass\", \"Distinction\"] else 0\n",
    ")\n",
    "\n",
    "\n",
    "# Rename columns for clarity\n",
    "df_merged.rename(\n",
    "    columns={\n",
    "        \"highest_education\": \"HLE\",\n",
    "        \"age_band\": \"Age group\",\n",
    "        \"studied_credits\": \"Credit Distribution\",\n",
    "        \"gender\": \"Gender\",\n",
    "        \"region\": \"Region\"\n",
    "    },\n",
    "    inplace=True\n",
    ")\n",
    "\n",
    "# Reorder columns into a final DataFrame\n",
    "df_final = df_merged[\n",
    "    [\n",
    "        \"id_student\", \n",
    "        \"score\",\n",
    "        \"Gender\",\n",
    "        \"Region\",\n",
    "        \"HLE\",\n",
    "        \"Age group\",\n",
    "        \"Credit Distribution\",\n",
    "        \"assessment_completion_ratio\",\n",
    "        \"total_vle_clicks\",\n",
    "        \"target\"\n",
    "    ]\n",
    "].copy()\n",
    "\n",
    "# Check final data\n",
    "print(df_final.head(10))\n",
    "print(\"Number of rows in df_final:\", len(df_final))\n"
   ]
  },
  {
   "cell_type": "markdown",
   "metadata": {},
   "source": [
    "ML Algos:"
   ]
  },
  {
   "cell_type": "code",
   "execution_count": 11,
   "metadata": {},
   "outputs": [
    {
     "name": "stdout",
     "output_type": "stream",
     "text": [
      "Decision Tree Accuracy: 0.9164179104477612\n",
      "Decision Tree Balanced Accuracy: 0.8809384735202492\n",
      "Random Forest Accuracy: 0.9097014925373135\n",
      "Random Forest Balanced Accuracy: 0.8611247745532055\n",
      "Random Forest OOB Score: 0.9136601144563324\n",
      "AdaBoost Accuracy: 0.9171641791044776\n",
      "AdaBoost Balanced Accuracy: 0.8870665272995573\n"
     ]
    }
   ],
   "source": [
    "import numpy as np\n",
    "import pandas as pd\n",
    "from sklearn.model_selection import train_test_split\n",
    "from sklearn.metrics import accuracy_score, balanced_accuracy_score\n",
    "from sklearn.tree import DecisionTreeClassifier\n",
    "from sklearn.ensemble import RandomForestClassifier, AdaBoostClassifier\n",
    "\n",
    "# Assume df_final contains the following columns:\n",
    "# \"Score\", \"Gender\", \"Region\", \"HLE\", \"Age_group\", \"studied_credits\",\n",
    "# \"assessment_completion_ratio\", \"total_vle_clicks\", and \"target\" (binary: Pass/Distinction=1, Fail=0)\n",
    "\n",
    "# Define the list of features\n",
    "features = ['score', 'Gender', 'Region', 'HLE', 'Age group', \n",
    "            'Credit Distribution', 'assessment_completion_ratio', 'total_vle_clicks']\n",
    "\n",
    "# Separate features and target\n",
    "X = df_final[features]\n",
    "y = df_final['target']\n",
    "\n",
    "# One-hot encode categorical variables to convert them into numeric features.\n",
    "# Adjust drop_first if you want to avoid dummy variable trap.\n",
    "X_encoded = pd.get_dummies(X, columns=['Gender', 'Region', 'HLE', 'Age group'], drop_first=True)\n",
    "\n",
    "# Split the data into training and test sets (stratified to maintain class balance)\n",
    "X_train, X_test, y_train, y_test = train_test_split(\n",
    "    X_encoded, y, test_size=0.25, random_state=42, stratify=y\n",
    ")\n",
    "\n",
    "# -------------------------------\n",
    "# 1. Decision Tree Classifier\n",
    "# -------------------------------\n",
    "clf_dt = DecisionTreeClassifier(max_depth=3, random_state=42)\n",
    "clf_dt.fit(X_train, y_train)\n",
    "y_pred_dt = clf_dt.predict(X_test)\n",
    "accuracy_dt = accuracy_score(y_test, y_pred_dt)\n",
    "balanced_accuracy_dt = balanced_accuracy_score(y_test, y_pred_dt)\n",
    "\n",
    "print(\"Decision Tree Accuracy:\", accuracy_dt)\n",
    "print(\"Decision Tree Balanced Accuracy:\", balanced_accuracy_dt)\n",
    "\n",
    "# -------------------------------\n",
    "# 2. Random Forest Classifier (Bagging)\n",
    "# -------------------------------\n",
    "clf_rf = RandomForestClassifier(n_estimators=100, max_depth=3, random_state=42,\n",
    "                                bootstrap=True, oob_score=True)\n",
    "clf_rf.fit(X_train, y_train)\n",
    "y_pred_rf = clf_rf.predict(X_test)\n",
    "accuracy_rf = accuracy_score(y_test, y_pred_rf)\n",
    "balanced_accuracy_rf = balanced_accuracy_score(y_test, y_pred_rf)\n",
    "oob_score_rf = clf_rf.oob_score_\n",
    "\n",
    "print(\"Random Forest Accuracy:\", accuracy_rf)\n",
    "print(\"Random Forest Balanced Accuracy:\", balanced_accuracy_rf)\n",
    "print(\"Random Forest OOB Score:\", oob_score_rf)\n",
    "\n",
    "# -------------------------------\n",
    "# 3. AdaBoost Classifier (Boosting)\n",
    "# -------------------------------\n",
    "# Here we use a Decision Tree with max_depth=1 as the base estimator.\n",
    "clf_ab = AdaBoostClassifier(estimator=DecisionTreeClassifier(max_depth=1),\n",
    "                            n_estimators=100, random_state=42)\n",
    "clf_ab.fit(X_train, y_train)\n",
    "y_pred_ab = clf_ab.predict(X_test)\n",
    "accuracy_ab = accuracy_score(y_test, y_pred_ab)\n",
    "balanced_accuracy_ab = balanced_accuracy_score(y_test, y_pred_ab)\n",
    "\n",
    "print(\"AdaBoost Accuracy:\", accuracy_ab)\n",
    "print(\"AdaBoost Balanced Accuracy:\", balanced_accuracy_ab)\n"
   ]
  },
  {
   "cell_type": "markdown",
   "metadata": {},
   "source": [
    "Confusion Matrix"
   ]
  },
  {
   "cell_type": "code",
   "execution_count": 18,
   "metadata": {},
   "outputs": [
    {
     "name": "stdout",
     "output_type": "stream",
     "text": [
      "Decision Tree Confusion Matrix:\n",
      "[[335  93]\n",
      " [ 19 893]]\n",
      "\n",
      "Random Forest Confusion Matrix:\n",
      "[[311 117]\n",
      " [  4 908]]\n",
      "\n",
      "AdaBoost Confusion Matrix:\n",
      "[[344  84]\n",
      " [ 27 885]]\n"
     ]
    },
    {
     "data": {
      "image/png": "[encoded data removed]",
      "text/plain": [
       "<Figure size 1800x500 with 6 Axes>"
      ]
     },
     "metadata": {},
     "output_type": "display_data"
    }
   ],
   "source": [
    "import pandas as pd\n",
    "import seaborn as sns\n",
    "import matplotlib.pyplot as plt\n",
    "\n",
    "from sklearn.model_selection import train_test_split\n",
    "from sklearn.metrics import confusion_matrix\n",
    "from sklearn.tree import DecisionTreeClassifier\n",
    "from sklearn.ensemble import RandomForestClassifier, AdaBoostClassifier\n",
    "\n",
    "# Define the list of features\n",
    "features = [\n",
    "    'score', \n",
    "    'Gender', \n",
    "    'Region', \n",
    "    'HLE', \n",
    "    'Age group', \n",
    "    'Credit Distribution', \n",
    "    'assessment_completion_ratio', \n",
    "    'total_vle_clicks'\n",
    "]\n",
    "\n",
    "# Separate features and target\n",
    "X = df_final[features]\n",
    "y = df_final['target']\n",
    "\n",
    "# One-hot encode categorical variables to convert them into numeric features.\n",
    "# Adjust drop_first if you want to avoid dummy variable trap.\n",
    "X_encoded = pd.get_dummies(X, columns=['Gender', 'Region', 'HLE', 'Age group'], drop_first=True)\n",
    "\n",
    "# Split the data (stratified to maintain class balance)\n",
    "X_train, X_test, y_train, y_test = train_test_split(\n",
    "    X_encoded, y, test_size=0.25, random_state=42, stratify=y\n",
    ")\n",
    "\n",
    "# -------------------------------\n",
    "# 1. Decision Tree Classifier\n",
    "# -------------------------------\n",
    "clf_dt = DecisionTreeClassifier(max_depth=3, random_state=42)\n",
    "clf_dt.fit(X_train, y_train)\n",
    "y_pred_dt = clf_dt.predict(X_test)\n",
    "cm_dt = confusion_matrix(y_test, y_pred_dt)\n",
    "print(\"Decision Tree Confusion Matrix:\")\n",
    "print(cm_dt)\n",
    "\n",
    "# -------------------------------\n",
    "# 2. Random Forest Classifier\n",
    "# -------------------------------\n",
    "clf_rf = RandomForestClassifier(\n",
    "    n_estimators=100, max_depth=3, random_state=42,\n",
    "    bootstrap=True, oob_score=True\n",
    ")\n",
    "clf_rf.fit(X_train, y_train)\n",
    "y_pred_rf = clf_rf.predict(X_test)\n",
    "cm_rf = confusion_matrix(y_test, y_pred_rf)\n",
    "print(\"\\nRandom Forest Confusion Matrix:\")\n",
    "print(cm_rf)\n",
    "\n",
    "# -------------------------------\n",
    "# 3. AdaBoost Classifier\n",
    "# -------------------------------\n",
    "# Use the new parameter 'estimator' for the base learner\n",
    "clf_ab = AdaBoostClassifier(\n",
    "    estimator=DecisionTreeClassifier(max_depth=1),\n",
    "    n_estimators=100, random_state=42\n",
    ")\n",
    "clf_ab.fit(X_train, y_train)\n",
    "y_pred_ab = clf_ab.predict(X_test)\n",
    "cm_ab = confusion_matrix(y_test, y_pred_ab)\n",
    "print(\"\\nAdaBoost Confusion Matrix:\")\n",
    "print(cm_ab)\n",
    "\n",
    "# -------------------------------\n",
    "# Plot all three confusion matrices side-by-side\n",
    "# -------------------------------\n",
    "fig, axes = plt.subplots(1, 3, figsize=(18, 5))\n",
    "models = ['Decision Tree', 'Random Forest', 'AdaBoost']\n",
    "cms = [cm_dt, cm_rf, cm_ab]\n",
    "\n",
    "for ax, model, cm in zip(axes, models, cms):\n",
    "    sns.heatmap(\n",
    "        cm, annot=True, fmt='d', cmap='Blues', ax=ax,\n",
    "        xticklabels=[\"Predicted Fail (0)\", \"Predicted Pass/Distinction (1)\"],\n",
    "        yticklabels=[\"Actual Fail (0)\", \"Actual Pass/Distinction (1)\"]\n",
    "    )\n",
    "    ax.set_title(f\"{model} Confusion Matrix\")\n",
    "    ax.set_xlabel(\"Predicted\")\n",
    "    ax.set_ylabel(\"Actual\")\n",
    "    \n",
    "plt.tight_layout()\n",
    "plt.show()\n"
   ]
  }
 ],
 "metadata": {
  "kernelspec": {
   "display_name": "Python 3",
   "language": "python",
   "name": "python3"
  },
  "language_info": {
   "codemirror_mode": {
    "name": "ipython",
    "version": 3
   },
   "file_extension": ".py",
   "mimetype": "text/x-python",
   "name": "python",
   "nbconvert_exporter": "python",
   "pygments_lexer": "ipython3",
   "version": "3.13.1"
  }
 },
 "nbformat": 4,
 "nbformat_minor": 2
}
